{
 "cells": [
  {
   "cell_type": "code",
   "execution_count": 1,
   "id": "e431f57b",
   "metadata": {},
   "outputs": [],
   "source": [
    "# webscraping a table using pandas\n",
    "import pandas as pd"
   ]
  },
  {
   "cell_type": "code",
   "execution_count": 2,
   "id": "32fa0a43",
   "metadata": {},
   "outputs": [],
   "source": [
    "url='https://en.wikipedia.org/wiki/List_of_cities_in_India_by_population'"
   ]
  },
  {
   "cell_type": "code",
   "execution_count": 4,
   "id": "bcc45ef0",
   "metadata": {},
   "outputs": [],
   "source": [
    "tables=pd.read_html(url)"
   ]
  },
  {
   "cell_type": "code",
   "execution_count": 6,
   "id": "99a7aafb",
   "metadata": {},
   "outputs": [],
   "source": [
    "table=tables[0]\n",
    "df=pd.DataFrame(table)"
   ]
  },
  {
   "cell_type": "code",
   "execution_count": 7,
   "id": "e951286a",
   "metadata": {},
   "outputs": [
    {
     "data": {
      "text/html": [
       "<div>\n",
       "<style scoped>\n",
       "    .dataframe tbody tr th:only-of-type {\n",
       "        vertical-align: middle;\n",
       "    }\n",
       "\n",
       "    .dataframe tbody tr th {\n",
       "        vertical-align: top;\n",
       "    }\n",
       "\n",
       "    .dataframe thead th {\n",
       "        text-align: right;\n",
       "    }\n",
       "</style>\n",
       "<table border=\"1\" class=\"dataframe\">\n",
       "  <thead>\n",
       "    <tr style=\"text-align: right;\">\n",
       "      <th></th>\n",
       "      <th>City</th>\n",
       "      <th>Population (2011)[3]</th>\n",
       "      <th>Population (2001)[3][a]</th>\n",
       "      <th>State or union territory</th>\n",
       "      <th>Ref</th>\n",
       "    </tr>\n",
       "  </thead>\n",
       "  <tbody>\n",
       "    <tr>\n",
       "      <th>0</th>\n",
       "      <td>Mumbai</td>\n",
       "      <td>12442373</td>\n",
       "      <td>11978450</td>\n",
       "      <td>Maharashtra</td>\n",
       "      <td>[3]</td>\n",
       "    </tr>\n",
       "    <tr>\n",
       "      <th>1</th>\n",
       "      <td>Delhi</td>\n",
       "      <td>11034555</td>\n",
       "      <td>9879172</td>\n",
       "      <td>Delhi</td>\n",
       "      <td>[3]</td>\n",
       "    </tr>\n",
       "    <tr>\n",
       "      <th>2</th>\n",
       "      <td>Bangalore</td>\n",
       "      <td>8443675</td>\n",
       "      <td>5682293</td>\n",
       "      <td>Karnataka</td>\n",
       "      <td>[3]</td>\n",
       "    </tr>\n",
       "    <tr>\n",
       "      <th>3</th>\n",
       "      <td>Hyderabad</td>\n",
       "      <td>6993262</td>\n",
       "      <td>5496960</td>\n",
       "      <td>Telangana</td>\n",
       "      <td>[3]</td>\n",
       "    </tr>\n",
       "    <tr>\n",
       "      <th>4</th>\n",
       "      <td>Ahmedabad</td>\n",
       "      <td>5577940</td>\n",
       "      <td>4470006</td>\n",
       "      <td>Gujarat</td>\n",
       "      <td>[3]</td>\n",
       "    </tr>\n",
       "  </tbody>\n",
       "</table>\n",
       "</div>"
      ],
      "text/plain": [
       "        City  Population (2011)[3]  Population (2001)[3][a]  \\\n",
       "0     Mumbai              12442373                 11978450   \n",
       "1      Delhi              11034555                  9879172   \n",
       "2  Bangalore               8443675                  5682293   \n",
       "3  Hyderabad               6993262                  5496960   \n",
       "4  Ahmedabad               5577940                  4470006   \n",
       "\n",
       "  State or union territory  Ref  \n",
       "0              Maharashtra  [3]  \n",
       "1                    Delhi  [3]  \n",
       "2                Karnataka  [3]  \n",
       "3                Telangana  [3]  \n",
       "4                  Gujarat  [3]  "
      ]
     },
     "execution_count": 7,
     "metadata": {},
     "output_type": "execute_result"
    }
   ],
   "source": [
    "df.head()"
   ]
  },
  {
   "cell_type": "code",
   "execution_count": 8,
   "id": "7e8e2ac0",
   "metadata": {},
   "outputs": [
    {
     "name": "stdout",
     "output_type": "stream",
     "text": [
      "Requirement already satisfied: beautifulsoup4 in c:\\users\\administrator\\anaconda3\\lib\\site-packages (4.12.2)\n",
      "Requirement already satisfied: soupsieve>1.2 in c:\\users\\administrator\\anaconda3\\lib\\site-packages (from beautifulsoup4) (2.4)\n"
     ]
    }
   ],
   "source": [
    "#webscraping a news article\n",
    "!pip install beautifulsoup4"
   ]
  },
  {
   "cell_type": "code",
   "execution_count": 9,
   "id": "d16c608f",
   "metadata": {},
   "outputs": [],
   "source": [
    "import requests"
   ]
  },
  {
   "cell_type": "code",
   "execution_count": 10,
   "id": "dfefa46b",
   "metadata": {},
   "outputs": [],
   "source": [
    "from bs4 import BeautifulSoup"
   ]
  },
  {
   "cell_type": "code",
   "execution_count": 11,
   "id": "430e710e",
   "metadata": {},
   "outputs": [],
   "source": [
    "url='https://www.thehindu.com/news/national/hit-by-poll-debacle-ajit-pawar-holds-emergency-meetings/article68259912.ece'"
   ]
  },
  {
   "cell_type": "code",
   "execution_count": 14,
   "id": "a1e11bc8",
   "metadata": {},
   "outputs": [],
   "source": [
    "response=requests.get(url)"
   ]
  },
  {
   "cell_type": "code",
   "execution_count": 15,
   "id": "b2e73dd6",
   "metadata": {},
   "outputs": [],
   "source": [
    "soup=BeautifulSoup(response.content,'html.parser')"
   ]
  },
  {
   "cell_type": "code",
   "execution_count": 21,
   "id": "c2930efb",
   "metadata": {},
   "outputs": [],
   "source": [
    "paragraph = soup.select_one('#content-body-68259912 > p:nth-child(1)').text"
   ]
  },
  {
   "cell_type": "code",
   "execution_count": 23,
   "id": "9a7a2fea",
   "metadata": {},
   "outputs": [
    {
     "data": {
      "text/plain": [
       "'Amid the crisis engulfing the ruling Mahayuti coalition in Maharashtra following its rout in the Lok Sabha election, Deputy Chief Minister Ajit Pawar on June 6 summoned emergency meetings of his Nationalist Congress Party (NCP) faction leaders, even as Deputy Chief Minister Devendra Fadnavis, who has offered to step down from his post, reached Delhi to meet the BJP top brass.'"
      ]
     },
     "execution_count": 23,
     "metadata": {},
     "output_type": "execute_result"
    }
   ],
   "source": [
    "paragraph"
   ]
  },
  {
   "cell_type": "code",
   "execution_count": 25,
   "id": "5c08107e",
   "metadata": {},
   "outputs": [],
   "source": [
    "paragraph2=soup.select_one('#content-body-68259912 > p:nth-child(2)').text"
   ]
  },
  {
   "cell_type": "code",
   "execution_count": 29,
   "id": "abb41ba6",
   "metadata": {},
   "outputs": [
    {
     "data": {
      "text/plain": [
       "'A flurry of meetings were held by Mr. Ajit Pawar, who summoned his NCP faction’s core committee to take stock of the party’s disastrous electoral performance, at his residence ‘Devagiri’ in Mumbai. '"
      ]
     },
     "execution_count": 29,
     "metadata": {},
     "output_type": "execute_result"
    }
   ],
   "source": [
    "paragraph2"
   ]
  },
  {
   "cell_type": "code",
   "execution_count": null,
   "id": "c74dfced",
   "metadata": {},
   "outputs": [],
   "source": []
  },
  {
   "cell_type": "code",
   "execution_count": null,
   "id": "61cf1772",
   "metadata": {},
   "outputs": [],
   "source": []
  }
 ],
 "metadata": {
  "kernelspec": {
   "display_name": "Python 3 (ipykernel)",
   "language": "python",
   "name": "python3"
  },
  "language_info": {
   "codemirror_mode": {
    "name": "ipython",
    "version": 3
   },
   "file_extension": ".py",
   "mimetype": "text/x-python",
   "name": "python",
   "nbconvert_exporter": "python",
   "pygments_lexer": "ipython3",
   "version": "3.11.5"
  }
 },
 "nbformat": 4,
 "nbformat_minor": 5
}
